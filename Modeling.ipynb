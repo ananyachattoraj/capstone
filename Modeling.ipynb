{
 "cells": [
  {
   "cell_type": "code",
   "execution_count": 4,
   "metadata": {},
   "outputs": [],
   "source": [
    "import numpy as np\n",
    "import pandas as pd\n",
    "import matplotlib.pyplot as plt\n",
    "import tensorflow as tf\n",
    "from tensorflow import keras\n",
    "from keras.applications import VGG16\n",
    "from keras.preprocessing import image\n",
    "from keras.preprocessing.text import Tokenizer\n",
    "from keras.applications.vgg16 import preprocess_input\n",
    "from sklearn.model_selection import train_test_split"
   ]
  },
  {
   "cell_type": "code",
   "execution_count": 2,
   "metadata": {},
   "outputs": [
    {
     "data": {
      "text/html": [
       "<div>\n",
       "<style scoped>\n",
       "    .dataframe tbody tr th:only-of-type {\n",
       "        vertical-align: middle;\n",
       "    }\n",
       "\n",
       "    .dataframe tbody tr th {\n",
       "        vertical-align: top;\n",
       "    }\n",
       "\n",
       "    .dataframe thead th {\n",
       "        text-align: right;\n",
       "    }\n",
       "</style>\n",
       "<table border=\"1\" class=\"dataframe\">\n",
       "  <thead>\n",
       "    <tr style=\"text-align: right;\">\n",
       "      <th>caption_order</th>\n",
       "      <th>paths</th>\n",
       "      <th>1</th>\n",
       "      <th>2</th>\n",
       "      <th>3</th>\n",
       "      <th>4</th>\n",
       "      <th>5</th>\n",
       "    </tr>\n",
       "  </thead>\n",
       "  <tbody>\n",
       "    <tr>\n",
       "      <th>0</th>\n",
       "      <td>flickr8k/images\\1000268201_693b08cb0e.jpg</td>\n",
       "      <td>a child in a pink dress is climbing up a set o...</td>\n",
       "      <td>a girl going into a wooden building .</td>\n",
       "      <td>a little girl climbing into a wooden playhouse .</td>\n",
       "      <td>a little girl climbing the stairs to her playh...</td>\n",
       "      <td>a little girl in a pink dress going into a woo...</td>\n",
       "    </tr>\n",
       "    <tr>\n",
       "      <th>1</th>\n",
       "      <td>flickr8k/images\\1001773457_577c3a7d70.jpg</td>\n",
       "      <td>a black dog and a spotted dog are fighting</td>\n",
       "      <td>a black dog and a tri-colored dog playing with...</td>\n",
       "      <td>a black dog and a white dog with brown spots a...</td>\n",
       "      <td>two dogs of different breeds looking at each o...</td>\n",
       "      <td>two dogs on pavement moving toward each other .</td>\n",
       "    </tr>\n",
       "    <tr>\n",
       "      <th>2</th>\n",
       "      <td>flickr8k/images\\1002674143_1b742ab4b8.jpg</td>\n",
       "      <td>a little girl covered in paint sits in front o...</td>\n",
       "      <td>a little girl is sitting in front of a large p...</td>\n",
       "      <td>a small girl in the grass plays with fingerpai...</td>\n",
       "      <td>there is a girl with pigtails sitting in front...</td>\n",
       "      <td>young girl with pigtails painting outside in t...</td>\n",
       "    </tr>\n",
       "    <tr>\n",
       "      <th>3</th>\n",
       "      <td>flickr8k/images\\1003163366_44323f5815.jpg</td>\n",
       "      <td>a man lays on a bench while his dog sits by him .</td>\n",
       "      <td>a man lays on the bench to which a white dog i...</td>\n",
       "      <td>a man sleeping on a bench outside with a white...</td>\n",
       "      <td>a shirtless man lies on a park bench with his ...</td>\n",
       "      <td>man laying on bench holding leash of dog sitti...</td>\n",
       "    </tr>\n",
       "    <tr>\n",
       "      <th>4</th>\n",
       "      <td>flickr8k/images\\1007129816_e794419615.jpg</td>\n",
       "      <td>a man in an orange hat starring at something .</td>\n",
       "      <td>a man wears an orange hat and glasses .</td>\n",
       "      <td>a man with gauges and glasses is wearing a bli...</td>\n",
       "      <td>a man with glasses is wearing a beer can croch...</td>\n",
       "      <td>the man with pierced ears is wearing glasses a...</td>\n",
       "    </tr>\n",
       "  </tbody>\n",
       "</table>\n",
       "</div>"
      ],
      "text/plain": [
       "caption_order                                      paths  \\\n",
       "0              flickr8k/images\\1000268201_693b08cb0e.jpg   \n",
       "1              flickr8k/images\\1001773457_577c3a7d70.jpg   \n",
       "2              flickr8k/images\\1002674143_1b742ab4b8.jpg   \n",
       "3              flickr8k/images\\1003163366_44323f5815.jpg   \n",
       "4              flickr8k/images\\1007129816_e794419615.jpg   \n",
       "\n",
       "caption_order                                                  1  \\\n",
       "0              a child in a pink dress is climbing up a set o...   \n",
       "1                     a black dog and a spotted dog are fighting   \n",
       "2              a little girl covered in paint sits in front o...   \n",
       "3              a man lays on a bench while his dog sits by him .   \n",
       "4                 a man in an orange hat starring at something .   \n",
       "\n",
       "caption_order                                                  2  \\\n",
       "0                          a girl going into a wooden building .   \n",
       "1              a black dog and a tri-colored dog playing with...   \n",
       "2              a little girl is sitting in front of a large p...   \n",
       "3              a man lays on the bench to which a white dog i...   \n",
       "4                        a man wears an orange hat and glasses .   \n",
       "\n",
       "caption_order                                                  3  \\\n",
       "0               a little girl climbing into a wooden playhouse .   \n",
       "1              a black dog and a white dog with brown spots a...   \n",
       "2              a small girl in the grass plays with fingerpai...   \n",
       "3              a man sleeping on a bench outside with a white...   \n",
       "4              a man with gauges and glasses is wearing a bli...   \n",
       "\n",
       "caption_order                                                  4  \\\n",
       "0              a little girl climbing the stairs to her playh...   \n",
       "1              two dogs of different breeds looking at each o...   \n",
       "2              there is a girl with pigtails sitting in front...   \n",
       "3              a shirtless man lies on a park bench with his ...   \n",
       "4              a man with glasses is wearing a beer can croch...   \n",
       "\n",
       "caption_order                                                  5  \n",
       "0              a little girl in a pink dress going into a woo...  \n",
       "1                two dogs on pavement moving toward each other .  \n",
       "2              young girl with pigtails painting outside in t...  \n",
       "3              man laying on bench holding leash of dog sitti...  \n",
       "4              the man with pierced ears is wearing glasses a...  "
      ]
     },
     "execution_count": 2,
     "metadata": {},
     "output_type": "execute_result"
    }
   ],
   "source": [
    "df = pd.read_pickle('captions_by_path')\n",
    "df.head()"
   ]
  },
  {
   "attachments": {},
   "cell_type": "markdown",
   "metadata": {},
   "source": [
    "Preprocessing. I will first concatenate the captions into one column such that they can be tokenized."
   ]
  },
  {
   "cell_type": "code",
   "execution_count": 35,
   "metadata": {},
   "outputs": [],
   "source": [
    "df['concated'] = df[[1,2,3,4,5]].apply(lambda row: ' caption '.join(row), axis=1)"
   ]
  },
  {
   "cell_type": "code",
   "execution_count": 36,
   "metadata": {},
   "outputs": [
    {
     "name": "stdout",
     "output_type": "stream",
     "text": [
      "a black dog and a spotted dog are fighting caption a black dog and a tri-colored dog playing with each other on the road . caption a black dog and a white dog with brown spots are staring at each other in the street . caption two dogs of different breeds looking at each other on the road . caption two dogs on pavement moving toward each other .\n"
     ]
    }
   ],
   "source": [
    "print(df['concated'].loc[1])"
   ]
  },
  {
   "cell_type": "code",
   "execution_count": 39,
   "metadata": {},
   "outputs": [],
   "source": [
    "X = df['paths']\n",
    "y = df['concated']"
   ]
  },
  {
   "cell_type": "code",
   "execution_count": 40,
   "metadata": {},
   "outputs": [
    {
     "data": {
      "text/plain": [
       "0    a child in a pink dress is climbing up a set o...\n",
       "1    a black dog and a spotted dog are fighting cap...\n",
       "2    a little girl covered in paint sits in front o...\n",
       "3    a man lays on a bench while his dog sits by hi...\n",
       "4    a man in an orange hat starring at something ....\n",
       "Name: concated, dtype: object"
      ]
     },
     "execution_count": 40,
     "metadata": {},
     "output_type": "execute_result"
    }
   ],
   "source": [
    "y.head()"
   ]
  },
  {
   "cell_type": "code",
   "execution_count": 51,
   "metadata": {},
   "outputs": [
    {
     "name": "stdout",
     "output_type": "stream",
     "text": [
      "(6472,)\n",
      "(6472,)\n"
     ]
    }
   ],
   "source": [
    "print(X_remainder.shape)\n",
    "print(y_remainder.shape)"
   ]
  },
  {
   "cell_type": "code",
   "execution_count": 52,
   "metadata": {},
   "outputs": [],
   "source": [
    "tokenizer = Tokenizer()\n",
    "tokenizer.fit_on_texts(y_remainder)\n",
    "sequences = tokenizer.texts_to_sequences(y_remainder)"
   ]
  },
  {
   "cell_type": "code",
   "execution_count": 53,
   "metadata": {},
   "outputs": [
    {
     "name": "stdout",
     "output_type": "stream",
     "text": [
      "[1, 641, 10, 9, 27, 3060, 6, 124, 313, 1, 119, 1579, 2, 1, 10, 9, 1, 13, 1776, 7, 27, 3060, 6, 124, 2, 1, 1776, 10, 366, 27, 4684, 2, 1, 124, 10, 9, 1, 735, 7, 1, 216, 1776, 2, 4, 641, 10, 9, 4, 13, 1776, 6, 20, 1, 4685, 3060]\n"
     ]
    }
   ],
   "source": [
    "print(sequences[1])"
   ]
  },
  {
   "cell_type": "code",
   "execution_count": null,
   "metadata": {},
   "outputs": [],
   "source": []
  }
 ],
 "metadata": {
  "kernelspec": {
   "display_name": "capstone",
   "language": "python",
   "name": "python3"
  },
  "language_info": {
   "codemirror_mode": {
    "name": "ipython",
    "version": 3
   },
   "file_extension": ".py",
   "mimetype": "text/x-python",
   "name": "python",
   "nbconvert_exporter": "python",
   "pygments_lexer": "ipython3",
   "version": "3.10.11"
  },
  "orig_nbformat": 4
 },
 "nbformat": 4,
 "nbformat_minor": 2
}
